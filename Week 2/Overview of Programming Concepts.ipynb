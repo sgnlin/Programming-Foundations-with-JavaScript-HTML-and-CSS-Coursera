{
 "cells": [
  {
   "cell_type": "markdown",
   "metadata": {},
   "source": [
    "1.Consider the following image on the left, which has been modified into the image on the right with green by changing the red and blue values of some pixels to 0.\n",
    "Which one of the following is most likely the code that modifies the first image to look like the second image?\n",
    "Hint: be sure to review how image x and y coordinates work. You can review this on our documentation page."
   ]
  },
  {
   "cell_type": "code",
   "execution_count": null,
   "metadata": {},
   "outputs": [],
   "source": [
    "for (var pixel of image.values()) {\n",
    "  x = pixel.getX();\n",
    "  y = pixel.getY();\n",
    "  if (x > y) {\n",
    "    pixel.setRed(0);\n",
    "    pixel.setBlue(0);\n",
    "  }\n",
    "}"
   ]
  },
  {
   "cell_type": "markdown",
   "metadata": {},
   "source": [
    "2.Consider the following code in which the starting image named image is all red (each pixel has red value 255, green value 0 and blue value 0) as shown below on the left and the resulting image shown on the right below is supposed to be all green, but is all yellow. The image is a 200 pixel by 200 pixel image."
   ]
  },
  {
   "cell_type": "code",
   "execution_count": null,
   "metadata": {},
   "outputs": [],
   "source": [
    "for (var pixel of image.values()) {\n",
    "  if (pixel.getRed() > 250) {\n",
    "    pixel.setGreen(255);\n",
    "  }\n",
    "}"
   ]
  },
  {
   "cell_type": "markdown",
   "metadata": {},
   "source": [
    "Which one of the following correctly identifies a statement or statements that should be added to the body of the if statement so that the red square turns into a green square when the code executes?"
   ]
  },
  {
   "cell_type": "code",
   "execution_count": null,
   "metadata": {},
   "outputs": [],
   "source": [
    "pixel.setRed(0);"
   ]
  },
  {
   "cell_type": "markdown",
   "metadata": {},
   "source": [
    "3.Recall the function addBorder you wrote in a programming exercise that has a parameter image and another parameter thickness. This function returns image with an added black border around each side of the image that is thickness pixels wide.\n",
    "Which two of the following are correct implementations of addBorder?"
   ]
  },
  {
   "cell_type": "code",
   "execution_count": null,
   "metadata": {},
   "outputs": [],
   "source": [
    "function addBorder(image, thickness){\n",
    "  for (var px of image.values()){\n",
    "    var x = px.getX();\n",
    "    var y = px.getY();\n",
    "    if (x < thickness){\n",
    "      px = setBlack(px);\n",
    "    }\n",
    "    if (x >= image.getWidth()-thickness){\n",
    "      px = setBlack(px);\n",
    "    }\n",
    "    if (y < thickness){\n",
    "      px = setBlack(px);\n",
    "    }\n",
    "    if (y >= image.getHeight()-thickness){\n",
    "      px = setBlack(px);\n",
    "    }\n",
    "  }\n",
    "  return image;\n",
    "}"
   ]
  },
  {
   "cell_type": "code",
   "execution_count": null,
   "metadata": {},
   "outputs": [],
   "source": [
    "function addBorder(image, thickness){\n",
    "    for (var pixel of image.values()){\n",
    "        if (pixel.getX() < thickness){\n",
    "            pixel = setBlack(pixel);\n",
    "        }\n",
    "        if (pixel.getX() >= image.getWidth()-thickness){\n",
    "            pixel = setBlack(pixel);\n",
    "        }\n",
    "        if (pixel.getY() < thickness){\n",
    "            pixel = setBlack(pixel);\n",
    "        }\n",
    "        if (pixel.getY() >= image.getHeight()-thickness){\n",
    "            pixel = setBlack(pixel);\n",
    "        }\n",
    "    }\n",
    "    return image;"
   ]
  },
  {
   "cell_type": "markdown",
   "metadata": {},
   "source": [
    "4.Consider the following program that uses the setBlack function you wrote in the Advanced Modifying Images programming exercise:"
   ]
  },
  {
   "cell_type": "code",
   "execution_count": null,
   "metadata": {},
   "outputs": [],
   "source": [
    "function pixelOnEdge(image,pixel,horizontalThick, verticalThick){\n",
    "    var x = pixel.getX();\n",
    "    var y = pixel.getY();\n",
    "    if (x < verticalThick || x > image.getWidth() - verticalThick){\n",
    "        return true;\n",
    "    }\n",
    "    if (y < horizontalThick || y > image.getHeight() - horizontalThick){\n",
    "        return true;\n",
    "    }\n",
    "    return false;\n",
    "}\n",
    "\n",
    "function addBorders(image,horizontalThick, verticalThick){\n",
    "    for (var px of image.values()){\n",
    "        if (pixelOnEdge(image,px,horizontalThick,verticalThick)){\n",
    "            px = setBlack(px);\n",
    "        }\n",
    "    }\n",
    "    return image;\n",
    "}\n",
    "\n",
    "var img = new SimpleImage(\"skyline.png\");\n",
    "img = addBorders(img,40,20);\n",
    "print(img);"
   ]
  },
  {
   "cell_type": "markdown",
   "metadata": {},
   "source": [
    "To identify pixels that are within the borders by returning true"
   ]
  }
 ],
 "metadata": {
  "kernelspec": {
   "display_name": "Python 3",
   "language": "python",
   "name": "python3"
  },
  "language_info": {
   "codemirror_mode": {
    "name": "ipython",
    "version": 3
   },
   "file_extension": ".py",
   "mimetype": "text/x-python",
   "name": "python",
   "nbconvert_exporter": "python",
   "pygments_lexer": "ipython3",
   "version": "3.7.4"
  }
 },
 "nbformat": 4,
 "nbformat_minor": 2
}
