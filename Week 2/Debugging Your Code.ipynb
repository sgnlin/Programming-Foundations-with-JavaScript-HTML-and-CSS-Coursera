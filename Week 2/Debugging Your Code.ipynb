{
 "cells": [
  {
   "cell_type": "markdown",
   "metadata": {},
   "source": [
    "1.Consider the code and two images below, in which the starting image named image is all red (each pixel has red value 255, green value 0 and blue value 0) as shown below on the left and the resulting image shown on the right below is supposed to be all green, but is all yellow. The image is a 200 pixel by 200 pixel image."
   ]
  },
  {
   "cell_type": "code",
   "execution_count": null,
   "metadata": {},
   "outputs": [],
   "source": [
    "for (var pixel of image.values()) {\n",
    "    if (pixel.getRed() > 250) {\n",
    "        pixel.setGreen(255);\n",
    "    }\n",
    "}"
   ]
  },
  {
   "cell_type": "markdown",
   "metadata": {},
   "source": [
    "Which one of the following would be the most helpful in identifying what is wrong with this code?"
   ]
  },
  {
   "cell_type": "markdown",
   "metadata": {},
   "source": [
    "Print the red, green and blue values of one of the pixels before the for loop and again after the for loop"
   ]
  },
  {
   "cell_type": "markdown",
   "metadata": {},
   "source": [
    "2.Which of the following options are steps in the scientific method approach to debugging? Choose the three best options below."
   ]
  },
  {
   "cell_type": "markdown",
   "metadata": {},
   "source": [
    "Gather Info & Apply Expert Knowledge, Form Hypothesis, Observe a Phenomenon"
   ]
  },
  {
   "cell_type": "markdown",
   "metadata": {},
   "source": [
    "3.Which of the following are important characteristics of a good hypothesis? Choose the two best options below."
   ]
  },
  {
   "cell_type": "markdown",
   "metadata": {},
   "source": [
    "The hypothesis is testable, The hypothesis is actionable"
   ]
  },
  {
   "cell_type": "markdown",
   "metadata": {},
   "source": [
    "4.For which of the seven steps to solve a programming problem is the scientific method most useful?"
   ]
  },
  {
   "cell_type": "markdown",
   "metadata": {},
   "source": [
    "Debug failed test cases"
   ]
  },
  {
   "cell_type": "markdown",
   "metadata": {},
   "source": [
    "5.Consider the following program:"
   ]
  },
  {
   "cell_type": "code",
   "execution_count": null,
   "metadata": {},
   "outputs": [],
   "source": [
    "var img = new SimpleImage(200,200);\n",
    "for (var px of img.values()){\n",
    "    var x = px.getX();\n",
    "    var y = px.getY();\n",
    "    if (x < img.getWidth()/2){\n",
    "        px.setRed(255);\n",
    "    }\n",
    "    if (y>img.getHeight()/2){\n",
    "        px.setBlue(255);\n",
    "    }\n",
    "    else {\n",
    "        px.setGreen(255);\n",
    "    }\n",
    "}\n",
    "print (img);"
   ]
  },
  {
   "cell_type": "markdown",
   "metadata": {},
   "source": [
    "It is supposed to produce the image on the left but it actually produces the image on the right.\n",
    "Which of the following is the best hypothesis about how the program is broken?"
   ]
  },
  {
   "cell_type": "markdown",
   "metadata": {},
   "source": [
    "The upper left quadrant is yellow instead of red because line 12 inside the else statement applies to all pixels with a y value less than or equal to half the height of the image"
   ]
  },
  {
   "cell_type": "markdown",
   "metadata": {},
   "source": [
    "6.Consider the program in the previous question, shown again here:"
   ]
  },
  {
   "cell_type": "code",
   "execution_count": null,
   "metadata": {},
   "outputs": [],
   "source": [
    "var img = new SimpleImage(200,200);\n",
    "for (var px of img.values()){\n",
    "    var x = px.getX();\n",
    "    var y = px.getY();\n",
    "    if (x < img.getWidth()/2){\n",
    "        px.setRed(255);\n",
    "    }\n",
    "    if (y>img.getHeight()/2){\n",
    "        px.setBlue(255);\n",
    "    }\n",
    "    else {\n",
    "        px.setGreen(255);\n",
    "    }\n",
    "}\n",
    "print (img);"
   ]
  },
  {
   "cell_type": "markdown",
   "metadata": {},
   "source": [
    "As a reminder, it is supposed to produce the image on the left but instead it produces the image on the right.\n",
    "Which of the following changes to the code would fix the problem and produce the correct image?"
   ]
  },
  {
   "cell_type": "markdown",
   "metadata": {},
   "source": [
    "Change the else to an if statement that checks whether a pixel is in the upper right quadrant"
   ]
  },
  {
   "cell_type": "markdown",
   "metadata": {},
   "source": [
    "7.Consider the function addBorder that has a parameter image and another parameter thickness. This function returns image with an added black border around each side of the image that is thickness pixels wide. It calls a function setBlack (which changes the color of a single pixel to black) to change the color of border pixels.\n",
    "For example, calling addBorder with the image on the left and a thickness of 10 pixels results in the image on the right.\n",
    "Which of the following methods must be used in the addBorder function? Select all that apply."
   ]
  },
  {
   "cell_type": "code",
   "execution_count": null,
   "metadata": {},
   "outputs": [],
   "source": [
    "values(), getWidth(), getY(), getHeight(), getX()"
   ]
  }
 ],
 "metadata": {
  "kernelspec": {
   "display_name": "Python 3",
   "language": "python",
   "name": "python3"
  },
  "language_info": {
   "codemirror_mode": {
    "name": "ipython",
    "version": 3
   },
   "file_extension": ".py",
   "mimetype": "text/x-python",
   "name": "python",
   "nbconvert_exporter": "python",
   "pygments_lexer": "ipython3",
   "version": "3.7.4"
  }
 },
 "nbformat": 4,
 "nbformat_minor": 2
}
