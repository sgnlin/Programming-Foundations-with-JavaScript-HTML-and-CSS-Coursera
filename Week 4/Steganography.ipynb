{
 "cells": [
  {
   "cell_type": "markdown",
   "metadata": {},
   "source": [
    "1.You may find it helpful to write a program to answer one or more of the following questions. You can access the DukeLearnToProgram JavaScript environment here: http://www.dukelearntoprogram.com/course1/example/index.php (also linked in the Resources tab).\n",
    "Consider writing the function crop(image, width, height) that has three parameters: image is a complete image, and width and height are numbers. This function creates and returns a new image from the parameter image, with the new image having the width and height of the specified width and height parameters, thus cropping the picture by ignoring the pixels on the rightside or bottomside that are beyond the specified width or height of the picture.\n",
    "Here is a possible crop function with some missing code."
   ]
  },
  {
   "cell_type": "code",
   "execution_count": null,
   "metadata": {},
   "outputs": [],
   "source": [
    "function crop(image, width, height){\n",
    "     var n = new SimpleImage(width,height);\n",
    "     for(var p of image.values()){\n",
    "       var x = p.getX();\n",
    "       var y = p.getY();\n",
    "       // MISSING CODE\n",
    "     }\n",
    "     return n;\n",
    "}"
   ]
  },
  {
   "cell_type": "markdown",
   "metadata": {},
   "source": [
    "Which one of the following is the correct missing code for the crop function?"
   ]
  },
  {
   "cell_type": "code",
   "execution_count": null,
   "metadata": {},
   "outputs": [],
   "source": [
    "if (x < width && y < height){\n",
    "     var np = n.getPixel(x,y);\n",
    "     np.setRed(p.getRed());\n",
    "     np.setBlue(p.getBlue());\n",
    "     np.setGreen(p.getGreen()); \n",
    "}"
   ]
  },
  {
   "cell_type": "markdown",
   "metadata": {},
   "source": [
    "2.Consider the function crop(image, width, height) that has three parameters: image is a complete image, and width and height are numbers. This function creates and returns a new image from the parameter image, with the new image having the width and height of the specified width and height parameters, thus cropping the picture by ignoring the pixels on the rightside or bottomside that are beyond the specified width or height of the picture. Assume this function works correctly.\n",
    "We select two images to start with:"
   ]
  },
  {
   "cell_type": "code",
   "execution_count": null,
   "metadata": {},
   "outputs": [],
   "source": [
    "var start = new SimpleImage(\"astrachan.jpg\");\n",
    "var hide = new SimpleImage(\"Message.jpg\")"
   ]
  },
  {
   "cell_type": "markdown",
   "metadata": {},
   "source": [
    "What is the remaining JavaScript code to take these two images and crop both of them using the crop function to make them the same smaller size?"
   ]
  },
  {
   "cell_type": "code",
   "execution_count": null,
   "metadata": {},
   "outputs": [],
   "source": [
    "var cropWidth = start.getWidth();\n",
    "if (hide.getWidth() < cropWidth) {\n",
    "    cropWidth = hide.getWidth();\n",
    "}\n",
    "var cropHeight = start.getHeight();\n",
    "if (hide.getHeight() < cropHeight) {\n",
    "    cropHeight = hide.getHeight();\n",
    "}\n",
    "start = crop(start,cropWidth, cropHeight);\n",
    "hide = crop(hide,cropWidth, cropHeight);\n",
    "print(start);\n",
    "print(hide);"
   ]
  },
  {
   "cell_type": "markdown",
   "metadata": {},
   "source": [
    "3.Assume we will hide one image inside another image by hiding information inside half of each pixel. The chop2Hide function zeros out the lower half of each pixel’s RGB components.\n",
    "Suppose a particular pixel has a red value of 195 right before chop2Hide is called. What is that pixel's red value after chop2Hide is called on this image?"
   ]
  },
  {
   "cell_type": "markdown",
   "metadata": {},
   "source": [
    "192"
   ]
  },
  {
   "cell_type": "markdown",
   "metadata": {},
   "source": [
    "4.Assume we will hide one image inside another image by hiding information inside half of each pixel. The shift function moves the left half of each pixel’s RGB components to the right, replacing the left half with all zeros. Suppose a particular pixel has a red value of 162 right before shift is called. What is that pixel’s red value after shift is called on this image?"
   ]
  },
  {
   "cell_type": "markdown",
   "metadata": {},
   "source": [
    "10"
   ]
  },
  {
   "cell_type": "markdown",
   "metadata": {},
   "source": [
    "5.Assume we will hide one image inside another image by hiding information inside half of each pixel. If the red color of a pixel in image 1 is 212 (written as 8 binary bits that is 11010100) and the red part of the image 2 we want to hide is 168 (in 8 bits that is 10101000). Then what are the 8 bits for this red color after we have hidden image 2 in image 1 by hiding it in half the pixel data?"
   ]
  },
  {
   "cell_type": "markdown",
   "metadata": {},
   "source": [
    "-"
   ]
  },
  {
   "cell_type": "markdown",
   "metadata": {},
   "source": [
    "6.The function newpv adds two integer parameters together and returns the result. As a safety check, it should also print a message if the result is too big for an RGB value, that is, bigger than 255. Which one of the following is the correct code for the function newpv?"
   ]
  },
  {
   "cell_type": "code",
   "execution_count": null,
   "metadata": {},
   "outputs": [],
   "source": [
    "function newpv(p,q) {\n",
    "     var answer = p + q;\n",
    "     if (p + q > 255)   print(\"error: answer too big\");     return answer;\n",
    "}"
   ]
  },
  {
   "cell_type": "markdown",
   "metadata": {},
   "source": [
    "7.The function newpv adds two integer parameters together and returns the result. Assume that this function works correctly, and in addition it prints an error message if a resulting pixel’s red, green or blue value is bigger than 255.\n",
    "The function combine has two image parameters a and b. It returns a new image that is the combination of the two images. That is a pixel in the new image will have a red value that is the sum of the red values of the pixels in the same (x,y) location from images a and b, a green value that is the sum of the two green values, and a blue value that is the sum of the two blue values. The function combine assumes the two images it is using to create the new image will not have any sums greater than 255. Consider the combine function below that has missing code in the body of the for loop."
   ]
  },
  {
   "cell_type": "code",
   "execution_count": null,
   "metadata": {},
   "outputs": [],
   "source": [
    "function combine(a,b){\n",
    "     var n = new SimpleImage(a.getWidth(), a.getHeight());\n",
    "     for(var pa of a.values()){\n",
    "        // missing code\n",
    "     }\n",
    "     return n;\n",
    "}"
   ]
  },
  {
   "cell_type": "code",
   "execution_count": null,
   "metadata": {},
   "outputs": [],
   "source": [
    "function combine(a,b){\n",
    "     var n = new SimpleImage(a.getWidth(), a.getHeight());\n",
    "     for(var pa of a.values()){\n",
    "        // missing code\n",
    "     }\n",
    "     return n;\n",
    "}"
   ]
  }
 ],
 "metadata": {
  "kernelspec": {
   "display_name": "Python 3",
   "language": "python",
   "name": "python3"
  },
  "language_info": {
   "codemirror_mode": {
    "name": "ipython",
    "version": 3
   },
   "file_extension": ".py",
   "mimetype": "text/x-python",
   "name": "python",
   "nbconvert_exporter": "python",
   "pygments_lexer": "ipython3",
   "version": "3.7.4"
  }
 },
 "nbformat": 4,
 "nbformat_minor": 2
}
