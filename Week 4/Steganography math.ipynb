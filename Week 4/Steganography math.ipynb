{
 "cells": [
  {
   "cell_type": "markdown",
   "metadata": {},
   "source": [
    "1.Pretend that colors are represented in base-10 and can have values 0–9999.\n",
    "You would like to hide a green pixel with R,G,B = 0000, 5962, 2034 inside of a blue pixel with R,G,B = 2011, 4057, 9980.\n",
    "What R,G,B values would the output pixel have?"
   ]
  },
  {
   "cell_type": "markdown",
   "metadata": {},
   "source": [
    "2000, 4059, 9920"
   ]
  },
  {
   "cell_type": "markdown",
   "metadata": {},
   "source": [
    "2.Pretend that colors are represented in base-10 and can have values 0–9999.\n",
    "You would like to hide a green pixel with R,G,B = 0000, 5962, 2034 inside of a blue pixel with R,G,B = 2011, 4057, 9980.\n",
    "Which of the following expressions would produce the correct red value for the output pixel?"
   ]
  },
  {
   "cell_type": "markdown",
   "metadata": {},
   "source": [
    "Math.floor(2011/100)*100 + Math.floor(0000/100)"
   ]
  },
  {
   "cell_type": "markdown",
   "metadata": {},
   "source": [
    "3.Colors are actually represented in 8 binary digits (bits) with possible values 0–255.\n",
    "You would like to hide a green pixel with R,G,B = 0, 156, 53 inside of a blue pixel with R,G,B = 59, 110, 248. The binary representation of these values is R,G,B = 0000 0000, 1001 1100, 0011 0101 for the hiding green pixel and R,G,B = 0011 1011, 0110 1110, 1111 1000 for the blue pixel in which you are hiding.\n",
    "What is the binary representation of the R,G,B values of the output pixel?"
   ]
  },
  {
   "cell_type": "markdown",
   "metadata": {},
   "source": [
    "0011 0000, 0110 1001, 1111 0011"
   ]
  },
  {
   "cell_type": "markdown",
   "metadata": {},
   "source": [
    "4.Colors are actually represented in 8 binary digits (bits) with possible values 0–255.\n",
    "You would like to hide a green pixel with R,G,B = 0, 156, 53 inside of a blue pixel with R,G,B = 59, 110, 248.\n",
    "Which of the following expressions would produce the correct red value for the output pixel?\n",
    "(Note: Even though the computer stores the numbers as binary, you do not need to convert them to binary. You just need to operate on them knowing there are 8 bits.)"
   ]
  },
  {
   "cell_type": "markdown",
   "metadata": {},
   "source": [
    "Math.floor(59/16)*16 + Math.floor(0/16)"
   ]
  },
  {
   "cell_type": "markdown",
   "metadata": {},
   "source": [
    "5.For color values stored as 8-bits of data, what is the maximum difference there could be between the original value in which you are hiding, and the output value with hidden data?\n",
    "Hint: think about the maximum difference there could be in the least significant digits."
   ]
  },
  {
   "cell_type": "markdown",
   "metadata": {},
   "source": [
    "15"
   ]
  }
 ],
 "metadata": {
  "kernelspec": {
   "display_name": "Python 3",
   "language": "python",
   "name": "python3"
  },
  "language_info": {
   "codemirror_mode": {
    "name": "ipython",
    "version": 3
   },
   "file_extension": ".py",
   "mimetype": "text/x-python",
   "name": "python",
   "nbconvert_exporter": "python",
   "pygments_lexer": "ipython3",
   "version": "3.7.4"
  }
 },
 "nbformat": 4,
 "nbformat_minor": 2
}
