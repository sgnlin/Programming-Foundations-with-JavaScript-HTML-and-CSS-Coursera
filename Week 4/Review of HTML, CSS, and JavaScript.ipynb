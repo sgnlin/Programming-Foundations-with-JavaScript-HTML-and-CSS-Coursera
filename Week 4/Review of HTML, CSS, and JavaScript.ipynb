{
 "cells": [
  {
   "cell_type": "markdown",
   "metadata": {},
   "source": [
    "1.What is the purpose of adding CSS to a web page?"
   ]
  },
  {
   "cell_type": "markdown",
   "metadata": {},
   "source": [
    "To style the web page"
   ]
  },
  {
   "cell_type": "markdown",
   "metadata": {},
   "source": [
    "2.Which of the following are examples of nesting? Select all that are correct."
   ]
  },
  {
   "cell_type": "markdown",
   "metadata": {},
   "source": [
    "A for loop inside a for loop, A list of lists"
   ]
  },
  {
   "cell_type": "markdown",
   "metadata": {},
   "source": [
    "3.Consider the following HTML and CSS to make a web page."
   ]
  },
  {
   "cell_type": "code",
   "execution_count": null,
   "metadata": {},
   "outputs": [],
   "source": [
    "<head>\n",
    "</head>\n",
    "<title>Cities</title>\n",
    "<body>\n",
    " <p><img src=\"http://s12.postimg.org/yj9byjs3x/DSCN6056_copy.jpg\"/>\n",
    " </p>\n",
    " <p>\n",
    "  <ol>\n",
    "    <li class = oddNums>New York</li>\n",
    "      <ul>\n",
    "        <li>Empire State Building</li>\n",
    "        <li>Statue of Liberty</li>\n",
    "        <li>Times Square</li>\n",
    "      </ul>\n",
    "    <li>Los Angeles</li>\n",
    "    <li class = oddNums>Chicago</li>\n",
    "  </ol>\n",
    " </p>\n",
    "</body>\n"
   ]
  },
  {
   "cell_type": "code",
   "execution_count": null,
   "metadata": {},
   "outputs": [],
   "source": [
    "body {\n",
    "  background-color : #567898;\n",
    "}\n",
    "oddNums {\n",
    "  color : purple;\n",
    "}"
   ]
  },
  {
   "cell_type": "markdown",
   "metadata": {},
   "source": [
    "Which of the following are errors in this code? Select all that are correct."
   ]
  },
  {
   "cell_type": "code",
   "execution_count": null,
   "metadata": {},
   "outputs": [],
   "source": [
    "The unordered list inside the ordered list should go inside the list element New York, not after it, The <title> tag should be inside the <head> tag, The HTML is missing <html> tags, In the CSS there should be a dot before oddNums to indicate that it is a class"
   ]
  },
  {
   "cell_type": "markdown",
   "metadata": {},
   "source": [
    "4.Consider the following image in which the upper left quadrant is cyan, the upper right quadrant is green, the lower left quadrant is blue, and the lower right quadrant is black:\n",
    "Now consider the code that attempts to create that image but has a mistake, and instead produces this image, in which the upper left quadrant is blue instead of cyan:"
   ]
  },
  {
   "cell_type": "code",
   "execution_count": null,
   "metadata": {},
   "outputs": [],
   "source": [
    "var img = new SimpleImage(200,200);\n",
    "for (var px of img.values()){\n",
    "    var x = px.getX();\n",
    "    var y = px.getY();\n",
    "    if (x < img.getWidth()/2){\n",
    "        px.setBlue(255);\n",
    "    }\n",
    "    else {\n",
    "        if (y < img.getHeight()/2){\n",
    "            px.setGreen(255);\n",
    "        }\n",
    "    }\n",
    "}\n",
    "print (img);"
   ]
  },
  {
   "cell_type": "markdown",
   "metadata": {},
   "source": [
    "The code inside the else statement is only applied to pixels that did not satisfy the first if statement. So only pixels in the upper half of the image that are not also in the left half of the image are made green by the if statement inside the else statement"
   ]
  },
  {
   "cell_type": "markdown",
   "metadata": {},
   "source": [
    "5.Consider the following short program that defines a function to make an image darker by a certain amount and applies it to the image chapel.png."
   ]
  },
  {
   "cell_type": "code",
   "execution_count": null,
   "metadata": {},
   "outputs": [],
   "source": [
    "function makeDarker(image,amount){\n",
    "    for (var px of image.values()){\n",
    "        px.setRed(px.getRed()-amount);\n",
    "        px.setGreen(px.getGreen()-amount);\n",
    "        px.setBlue(px.getBlue()-amount);\n",
    "    }\n",
    "}\n",
    "img = new SimpleImage(\"chapel.png\");\n",
    "img = makeDarker(50);\n",
    "print(img);"
   ]
  },
  {
   "cell_type": "markdown",
   "metadata": {},
   "source": [
    "The function makeDarker is missing a return statement so there will be an error when the program assigns the return value of makeDarker to the variable img, The call to makeDarker does not pass an image as an argument, The line that initializes the variable img is missing the keyword var"
   ]
  },
  {
   "cell_type": "markdown",
   "metadata": {},
   "source": [
    "6.Imagine you want to write a program to turn an image into a mirror image of itself. Which of the following would be the best approach to take?"
   ]
  },
  {
   "cell_type": "markdown",
   "metadata": {},
   "source": [
    "Work small examples by hand, write down what you did, look for patterns, translate your algorithm to code, test and debug your program"
   ]
  },
  {
   "cell_type": "markdown",
   "metadata": {},
   "source": [
    "7.Consider the following JavaScript code."
   ]
  },
  {
   "cell_type": "code",
   "execution_count": null,
   "metadata": {},
   "outputs": [],
   "source": [
    "var grayimage = null;\n",
    "var image;\n",
    "function loadImage(){\n",
    "  var ff = document.getElementById(\"fbutton\");\n",
    "  gcanvas = document.getElementById(\"can\");\n",
    "  doclear();\n",
    "  image = new SimpleImage(ff);\n",
    "  image.drawTo(can);\n",
    "}\n",
    "function makeGray(theImage) {\n",
    "   for (var pix of theImage.pixels()){\n",
    "    var total = pix.getGreen() + pix.getRed() + pix.getBlue();\n",
    "    var avg = total/3;\n",
    "    pix.setGreen(avg);\n",
    "    pix.setBlue(avg);\n",
    "    pix.setRed(avg);\n",
    "  }\n",
    "  return theImage;\n",
    "}"
   ]
  },
  {
   "cell_type": "markdown",
   "metadata": {},
   "source": [
    "grayimage, image"
   ]
  },
  {
   "cell_type": "markdown",
   "metadata": {},
   "source": [
    "8.Question 8\n",
    "Which is the appropriate event handler to do something once a file has loaded?"
   ]
  },
  {
   "cell_type": "markdown",
   "metadata": {},
   "source": [
    "onchange"
   ]
  },
  {
   "cell_type": "markdown",
   "metadata": {},
   "source": [
    "9.Consider the following code that calls the function filterGreen (code for this function not shown) to apply a green filter to the image greenImage."
   ]
  },
  {
   "cell_type": "code",
   "execution_count": null,
   "metadata": {},
   "outputs": [],
   "source": [
    "function doGreen() {\n",
    "  if (imageIsLoaded(greenImage)) {\n",
    "    filterGreen();\n",
    "  }\n",
    "}"
   ]
  },
  {
   "cell_type": "markdown",
   "metadata": {},
   "source": [
    "What line needs to be added to this code to display the final image on the canvas? You can assume that there is a variable named canvas that can be used to reference the canvas."
   ]
  },
  {
   "cell_type": "code",
   "execution_count": null,
   "metadata": {},
   "outputs": [],
   "source": [
    "greenImage.drawTo(canvas);"
   ]
  },
  {
   "cell_type": "markdown",
   "metadata": {},
   "source": [
    "10.Consider the examples you have seen of web pages that enable users to upload images and add filters to them. Which of the following describes what happens when the user clicks a button to add a filter to an image?"
   ]
  },
  {
   "cell_type": "markdown",
   "metadata": {},
   "source": [
    "The onclick event handler calls a function that applies the filter to the image, then the filtered image is drawn on the canvas"
   ]
  }
 ],
 "metadata": {
  "kernelspec": {
   "display_name": "Python 3",
   "language": "python",
   "name": "python3"
  },
  "language_info": {
   "codemirror_mode": {
    "name": "ipython",
    "version": 3
   },
   "file_extension": ".py",
   "mimetype": "text/x-python",
   "name": "python",
   "nbconvert_exporter": "python",
   "pygments_lexer": "ipython3",
   "version": "3.7.4"
  }
 },
 "nbformat": 4,
 "nbformat_minor": 2
}
