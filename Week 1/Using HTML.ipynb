{
 "cells": [
  {
   "cell_type": "markdown",
   "metadata": {},
   "source": [
    "1.Consider the following simple HTML file shown below."
   ]
  },
  {
   "cell_type": "code",
   "execution_count": null,
   "metadata": {},
   "outputs": [],
   "source": [
    "<html>\n",
    "<title> Birds </title>\n",
    "<body>\n",
    "<h1> Eagles </h1>\n",
    "</body>\n",
    "</html>"
   ]
  },
  {
   "cell_type": "markdown",
   "metadata": {},
   "source": [
    "title birds, body Eagles"
   ]
  },
  {
   "cell_type": "markdown",
   "metadata": {},
   "source": [
    "2.Consider the following line from a web page:\n",
    "Time for Back to School, SALES GALORE!, Coupons online, open early\n",
    "As you can see, “Back to School,” is shown in bold, “SALES GALORE!” is shown in bold and italics, and “Coupons online,” is also shown in bold. The rest of the words have no bold or emphasis.\n",
    "Which of the following is the HTML to generate this line?"
   ]
  },
  {
   "cell_type": "code",
   "execution_count": null,
   "metadata": {},
   "outputs": [],
   "source": [
    "<p> Time for <b> Back to School, \n",
    "<em> SALES GALORE! </em> ,\n",
    "Coupons online, </b>\n",
    "open early </p>"
   ]
  },
  {
   "cell_type": "markdown",
   "metadata": {},
   "source": [
    "3.Which of the following is an example of the correct way to display an image in HTML?"
   ]
  },
  {
   "cell_type": "code",
   "execution_count": null,
   "metadata": {},
   "outputs": [],
   "source": [
    "<img width=\"75%\"\n",
    "src=\"http://www.savethecat.com/wp-content/uploads/2015/06/cats.jpg\" />"
   ]
  },
  {
   "cell_type": "markdown",
   "metadata": {},
   "source": [
    "4.Consider the following text that is part of an HTML file."
   ]
  },
  {
   "cell_type": "code",
   "execution_count": null,
   "metadata": {},
   "outputs": [],
   "source": [
    "To search for a picture of a cat, you could use the search engines\n",
    "<a href=\"http://www.google.com\"> google </a> or\n",
    "<a href=\"http://www.bing.com\"> </a> bing"
   ]
  },
  {
   "cell_type": "markdown",
   "metadata": {},
   "source": [
    "Only the word “google” is a clickable link"
   ]
  },
  {
   "cell_type": "markdown",
   "metadata": {},
   "source": [
    "5.Consider the following list of drinks displayed on a web page that has been constructed with HTML using two lists, one nested in the other list."
   ]
  },
  {
   "cell_type": "code",
   "execution_count": null,
   "metadata": {},
   "outputs": [],
   "source": [
    "<ul>\n",
    "<li> water </li>\n",
    "<li> tea </li>\n",
    "<li> fruit juice\n",
    "<ul>\n",
    "<li> orange </li>\n",
    "<li> apple </li>\n",
    "<li> mango </li>\n",
    "</ul>\n",
    "</li>\n",
    "</ul>"
   ]
  }
 ],
 "metadata": {
  "kernelspec": {
   "display_name": "Python 3",
   "language": "python",
   "name": "python3"
  },
  "language_info": {
   "codemirror_mode": {
    "name": "ipython",
    "version": 3
   },
   "file_extension": ".py",
   "mimetype": "text/x-python",
   "name": "python",
   "nbconvert_exporter": "python",
   "pygments_lexer": "ipython3",
   "version": "3.7.4"
  }
 },
 "nbformat": 4,
 "nbformat_minor": 2
}
