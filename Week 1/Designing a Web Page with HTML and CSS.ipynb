{
 "cells": [
  {
   "cell_type": "markdown",
   "metadata": {},
   "source": [
    "1.Consider the following HTML markup for a table:"
   ]
  },
  {
   "cell_type": "code",
   "execution_count": null,
   "metadata": {},
   "outputs": [],
   "source": [
    "<table>\n",
    "<tr> <th> AAA </th>\n",
    "<td> EEE </td> </tr>\n",
    "<tr> <th> OOO </th>\n",
    "<td> III </td> </tr>\n",
    "</table>"
   ]
  },
  {
   "cell_type": "markdown",
   "metadata": {},
   "source": [
    "Which one of the following shows how this HTML will be displayed on a web page?"
   ]
  },
  {
   "cell_type": "markdown",
   "metadata": {},
   "source": [
    "AAA(in bold) EEE, OOO(in bold) III"
   ]
  },
  {
   "cell_type": "markdown",
   "metadata": {},
   "source": [
    "2.Consider the following HTML:"
   ]
  },
  {
   "cell_type": "code",
   "execution_count": null,
   "metadata": {},
   "outputs": [],
   "source": [
    "<html>\n",
    "<head>\n",
    "<title> Hello Beautiful World </title>\n",
    "</head>\n",
    "\n",
    "<body>\n",
    "<h2> What a great world we live in! </h2>\n",
    "\n",
    "<h1> Hello everyone! </h1>\n",
    "</body>\n",
    "</html>"
   ]
  },
  {
   "cell_type": "markdown",
   "metadata": {},
   "source": [
    "Which of the following could represent the way this HTML would be displayed on a web page?"
   ]
  },
  {
   "cell_type": "markdown",
   "metadata": {},
   "source": [
    "file name Hello Beautiful World\n",
    "(small) What a great world we live in!\n",
    "(larger) Hello everyone!"
   ]
  },
  {
   "cell_type": "markdown",
   "metadata": {},
   "source": [
    "3.Consider the following HTML to display a list:"
   ]
  },
  {
   "cell_type": "code",
   "execution_count": null,
   "metadata": {},
   "outputs": [],
   "source": [
    "<ul>\n",
    "<li> AAA </li>  \n",
    "<li> BBB </li>  \n",
    "<ul> <li> CCC </li>  \n",
    "</ul>  \n",
    "<li> DDD </li>  \n",
    "<ul> <li> EEE </li>    \n",
    "<li> FFF </li>  \n",
    "</ul>  \n",
    "<li> GGG </li>\n",
    "</ul>"
   ]
  },
  {
   "cell_type": "markdown",
   "metadata": {},
   "source": [
    "Which one of the following represents how this list would be displayed on a web page?"
   ]
  },
  {
   "cell_type": "markdown",
   "metadata": {},
   "source": [
    "AAA\n",
    "BBB\n",
    "-CCC\n",
    "DDD\n",
    "-EEE\n",
    "-FFF\n",
    "GGG"
   ]
  },
  {
   "cell_type": "markdown",
   "metadata": {},
   "source": [
    "4.A friend of yours is trying to write a list that displays on a browser like this:\n",
    "Here is a copy of your friend’s HTML."
   ]
  },
  {
   "cell_type": "code",
   "execution_count": null,
   "metadata": {},
   "outputs": [],
   "source": [
    "<ul>\n",
    "<li> AAA </li>  \n",
    "<li> BBB </li></li> \n",
    "  <li> CCC <li> \n",
    "  \n",
    "<li> DDD </li>  \n",
    "<li> EEE </li>\n",
    "</ul>"
   ]
  },
  {
   "cell_type": "markdown",
   "metadata": {},
   "source": [
    "While there are a couple errors in the HTML and some odd formatting, there is only one error causing the problem of the blank bullet point. What is the error?"
   ]
  },
  {
   "cell_type": "markdown",
   "metadata": {},
   "source": [
    "There is a missing slash in the list item ending tag of list item \"CCC.\""
   ]
  },
  {
   "cell_type": "code",
   "execution_count": null,
   "metadata": {},
   "outputs": [],
   "source": [
    "5.What is the difference between the two HTML table tags: <th> and <td> ?"
   ]
  },
  {
   "cell_type": "code",
   "execution_count": null,
   "metadata": {},
   "outputs": [],
   "source": [
    "The <th> tag bolds a table data item, and the <td> tag does not"
   ]
  },
  {
   "cell_type": "markdown",
   "metadata": {},
   "source": [
    "6.What is the difference between the CSS “id=” and “class=” in an HTML tag?"
   ]
  },
  {
   "cell_type": "markdown",
   "metadata": {},
   "source": [
    "The “id=something” can be used to style one HTML element, whereas the “class=something” could be used to style multiple elements"
   ]
  },
  {
   "cell_type": "markdown",
   "metadata": {},
   "source": [
    "7.If the blue part of a RGB value were set to 0, how many color choices would you still have available by changing the other components of the RGB value?"
   ]
  },
  {
   "cell_type": "markdown",
   "metadata": {},
   "source": [
    "65,536"
   ]
  },
  {
   "cell_type": "markdown",
   "metadata": {},
   "source": [
    "8.Which of the following are valid hexadecimal digits? (Check all that apply.)"
   ]
  },
  {
   "cell_type": "markdown",
   "metadata": {},
   "source": [
    "C, 3"
   ]
  },
  {
   "cell_type": "markdown",
   "metadata": {},
   "source": [
    "9.The RGB color corresponding to (222,184,135) also has the name BurlyWood. Is the following statement true or false? Any RGB value has a name you can use instead of numbers."
   ]
  },
  {
   "cell_type": "markdown",
   "metadata": {},
   "source": [
    "False"
   ]
  },
  {
   "cell_type": "markdown",
   "metadata": {},
   "source": [
    "10.Which of the following are valid RGB colors on a computer? (Each option below is a collection of three values for red, green and blue, respectively. Check all that apply.)"
   ]
  },
  {
   "cell_type": "markdown",
   "metadata": {},
   "source": [
    "(0, 0, 0), (8, 108, 208)"
   ]
  }
 ],
 "metadata": {
  "kernelspec": {
   "display_name": "Python 3",
   "language": "python",
   "name": "python3"
  },
  "language_info": {
   "codemirror_mode": {
    "name": "ipython",
    "version": 3
   },
   "file_extension": ".py",
   "mimetype": "text/x-python",
   "name": "python",
   "nbconvert_exporter": "python",
   "pygments_lexer": "ipython3",
   "version": "3.7.4"
  }
 },
 "nbformat": 4,
 "nbformat_minor": 2
}
