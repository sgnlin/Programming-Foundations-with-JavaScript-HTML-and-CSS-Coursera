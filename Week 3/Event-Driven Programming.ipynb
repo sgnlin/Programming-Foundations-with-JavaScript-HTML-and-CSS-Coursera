{
 "cells": [
  {
   "cell_type": "markdown",
   "metadata": {},
   "source": [
    "1.Which of the following attributes specifies the event handler in an HTML input element?"
   ]
  },
  {
   "cell_type": "markdown",
   "metadata": {},
   "source": [
    "onclick"
   ]
  },
  {
   "cell_type": "markdown",
   "metadata": {},
   "source": [
    "2.The following canvas element is defined using HTML:"
   ]
  },
  {
   "cell_type": "code",
   "execution_count": null,
   "metadata": {},
   "outputs": [],
   "source": [
    "<canvas id=\"can\">\n",
    "</canvas>"
   ]
  },
  {
   "cell_type": "markdown",
   "metadata": {},
   "source": [
    "You would like to create a JavaScript variable canvas."
   ]
  },
  {
   "cell_type": "code",
   "execution_count": null,
   "metadata": {},
   "outputs": [],
   "source": [
    "var canvas = ?"
   ]
  },
  {
   "cell_type": "markdown",
   "metadata": {},
   "source": [
    "What code goes to the right of the assignment operator (equals sign) in order to get this element?"
   ]
  },
  {
   "cell_type": "markdown",
   "metadata": {},
   "source": [
    "document.getElementById(\"can\");"
   ]
  },
  {
   "cell_type": "markdown",
   "metadata": {},
   "source": [
    "3.You have defined the following HTML slider input element."
   ]
  },
  {
   "cell_type": "code",
   "execution_count": null,
   "metadata": {},
   "outputs": [],
   "source": [
    "<input type=\"range\" min=\"10\" max=\"100\" value=\"10\" id=\"sldr\" oninput=\"doThing()\" >"
   ]
  },
  {
   "cell_type": "code",
   "execution_count": null,
   "metadata": {},
   "outputs": [],
   "source": [
    "You have accessed this element in the JavaScript function doThing()"
   ]
  },
  {
   "cell_type": "code",
   "execution_count": null,
   "metadata": {},
   "outputs": [],
   "source": [
    "function doThing() {\n",
    "  var sliderinput = document.getElementById(\"sldr\");\n",
    "  // code goes here\n",
    "}"
   ]
  },
  {
   "cell_type": "markdown",
   "metadata": {},
   "source": [
    "What line of code will declare a variable size and initialize it to be the number from the slider?"
   ]
  },
  {
   "cell_type": "code",
   "execution_count": null,
   "metadata": {},
   "outputs": [],
   "source": [
    "var size = sliderinput.value;"
   ]
  }
 ],
 "metadata": {
  "kernelspec": {
   "display_name": "Python 3",
   "language": "python",
   "name": "python3"
  },
  "language_info": {
   "codemirror_mode": {
    "name": "ipython",
    "version": 3
   },
   "file_extension": ".py",
   "mimetype": "text/x-python",
   "name": "python",
   "nbconvert_exporter": "python",
   "pygments_lexer": "ipython3",
   "version": "3.7.4"
  }
 },
 "nbformat": 4,
 "nbformat_minor": 2
}
