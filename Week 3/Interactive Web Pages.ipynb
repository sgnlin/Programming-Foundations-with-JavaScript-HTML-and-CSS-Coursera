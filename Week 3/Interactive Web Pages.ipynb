{
 "cells": [
  {
   "cell_type": "markdown",
   "metadata": {},
   "source": [
    "1.What is the purpose of initializing the global image variables to null in the green screen web page?"
   ]
  },
  {
   "cell_type": "markdown",
   "metadata": {},
   "source": [
    "The code can check if the image is null before processing it"
   ]
  },
  {
   "cell_type": "markdown",
   "metadata": {},
   "source": [
    "2.You would like to display an alert message if the image variable for the foreground image fgImage is not loaded. Which two of the following expressions evaluate to true if the image is not ready?"
   ]
  },
  {
   "cell_type": "code",
   "execution_count": null,
   "metadata": {},
   "outputs": [],
   "source": [
    "fgImage == null, !fgImage.complete()"
   ]
  },
  {
   "cell_type": "markdown",
   "metadata": {},
   "source": [
    "3.In which of the following code snippets does the program alert the user \"x is null\"?"
   ]
  },
  {
   "cell_type": "code",
   "execution_count": null,
   "metadata": {},
   "outputs": [],
   "source": [
    "var x = null;\n",
    "function myFunction() {\n",
    "var x = 2;\n",
    "}\n",
    "myFunction();\n",
    "if (x == null) {\n",
    "alert(\"x is null\");\n",
    "}"
   ]
  },
  {
   "cell_type": "markdown",
   "metadata": {},
   "source": [
    "4.You have created the following file input element:"
   ]
  },
  {
   "cell_type": "code",
   "execution_count": null,
   "metadata": {},
   "outputs": [],
   "source": [
    "<input type=\"file\" onchange=\"loadImage()\" >"
   ]
  },
  {
   "cell_type": "markdown",
   "metadata": {},
   "source": [
    "Which of the following attributes can you add to specify the element ID?"
   ]
  },
  {
   "cell_type": "markdown",
   "metadata": {},
   "source": [
    "accept=\"image/*\""
   ]
  },
  {
   "cell_type": "markdown",
   "metadata": {},
   "source": [
    "5.You have the following code excerpt to allow a user to select a file from the input element with ID \"finput\" and display it to a canvas with ID \"can.\""
   ]
  },
  {
   "cell_type": "code",
   "execution_count": null,
   "metadata": {},
   "outputs": [],
   "source": [
    " var file = document.getElementById(\"finput\");\n",
    " var image = new SimpleImage(file);\n",
    " var canvas = document.getElementById(\"can\");\n",
    " image.drawTo(canvas);"
   ]
  },
  {
   "cell_type": "markdown",
   "metadata": {},
   "source": [
    "Which of the following do you need to add, so that this code will work in CodePen or on another web page?"
   ]
  },
  {
   "cell_type": "markdown",
   "metadata": {},
   "source": [
    "A script specifying where to find the JavaScript library for SimpleImage"
   ]
  },
  {
   "cell_type": "markdown",
   "metadata": {},
   "source": [
    "6.You have two pixels to convert to grayscale, and you would like to determine visually whether your code is likely to be working, so you work an example by hand.\n",
    "The first pixel is orange and has rgb(255,153,51), and the second pixel is green and has rgb(51,153,51). Once the grayscale pixels are printed, which one should appear as a lighter gray (closer to white)."
   ]
  },
  {
   "cell_type": "markdown",
   "metadata": {},
   "source": [
    "First pixel"
   ]
  },
  {
   "cell_type": "markdown",
   "metadata": {},
   "source": [
    "7.You are building a web page, and you create a text input element and specify an element ID for it. Why did you do this?"
   ]
  },
  {
   "cell_type": "markdown",
   "metadata": {},
   "source": [
    "You would like to be able to reference the input element programmatically"
   ]
  }
 ],
 "metadata": {
  "kernelspec": {
   "display_name": "Python 3",
   "language": "python",
   "name": "python3"
  },
  "language_info": {
   "codemirror_mode": {
    "name": "ipython",
    "version": 3
   },
   "file_extension": ".py",
   "mimetype": "text/x-python",
   "name": "python",
   "nbconvert_exporter": "python",
   "pygments_lexer": "ipython3",
   "version": "3.7.4"
  }
 },
 "nbformat": 4,
 "nbformat_minor": 2
}
